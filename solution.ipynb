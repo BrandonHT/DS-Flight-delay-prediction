{
 "cells": [
  {
   "cell_type": "code",
   "execution_count": 30,
   "metadata": {},
   "outputs": [],
   "source": [
    "# libraries for data reading, manipulation and visualization\n",
    "import pandas as pd\n",
    "import numpy as np\n",
    "import seaborn as sns\n",
    "from matplotlib import pyplot as plt"
   ]
  },
  {
   "cell_type": "markdown",
   "metadata": {},
   "source": [
    "## Data load"
   ]
  },
  {
   "cell_type": "markdown",
   "metadata": {},
   "source": [
    "After a brief exploration of the data, I realized that the columns \"Vlo-I\" and \"Vlo-O\", which are associated to the numbers of programmed and operated flights respectively, both have numerical and text values. \n",
    "\n",
    "**In some cases**, the value of \"Vlo-I\" is the quite the same as the value of \"Vlo-O\", but just with one extra letter at the end of the number of the flight (examples: 989 and 989P // 846A and 846). It could be due a mistake when registering the flight or could be another way to label the flight. **In other cases**, the value of \"Vlo-O\" is actually different as the value of \"Vlo-I\". \n",
    "\n",
    "For \"Vlo-I\", all but one text values meet the case where the number of the flight is quite the same as the value of \"Vlo-O\" but just removing the letter at the end of the number. For \"Vlo-O\", all the text values meet the case described above.\n",
    "\n",
    "Taking in main all these notes, the **total amount of entries with text values for \"Vlo-I\" is 5 (five)**, while the **total amount of entries with text values for \"Vlo-O\" is 16**. \n",
    "\n",
    "I took the decision to remove from the dataset all these entries with text values because **they represent aproximately the 0.03% of the total amount of data**, so removing them **should not affect the data, its composition or its distribution**. The **benefits** of removing them are **better handling of the data types, and facilitate the dimensionality reduction**. "
   ]
  },
  {
   "cell_type": "code",
   "execution_count": 2,
   "metadata": {},
   "outputs": [],
   "source": [
    "data = pd.read_csv(\"/Users/brandon.hernandez/Documents/Data-scientist-LATAM-challenge/prepared_dataset_SCL.csv\")"
   ]
  },
  {
   "cell_type": "code",
   "execution_count": 3,
   "metadata": {},
   "outputs": [
    {
     "name": "stdout",
     "output_type": "stream",
     "text": [
      "The number of entries in the dataset is: 68186\n"
     ]
    }
   ],
   "source": [
    "print(f'The number of entries in the dataset is: {len(data)}')"
   ]
  },
  {
   "cell_type": "markdown",
   "metadata": {},
   "source": [
    "## Cleaning the dataframe"
   ]
  },
  {
   "cell_type": "code",
   "execution_count": 4,
   "metadata": {},
   "outputs": [
    {
     "data": {
      "text/plain": [
       "Index(['Fecha-I', 'Vlo-I', 'Ori-I', 'Des-I', 'Emp-I', 'Fecha-O', 'Vlo-O',\n",
       "       'Ori-O', 'Des-O', 'Emp-O', 'DIA', 'MES', 'AÑO', 'DIANOM', 'TIPOVUELO',\n",
       "       'OPERA', 'SIGLAORI', 'SIGLADES'],\n",
       "      dtype='object')"
      ]
     },
     "execution_count": 4,
     "metadata": {},
     "output_type": "execute_result"
    }
   ],
   "source": [
    "# displaying the columns to check whether they were well loaded.\n",
    "data.columns"
   ]
  },
  {
   "cell_type": "code",
   "execution_count": 5,
   "metadata": {},
   "outputs": [
    {
     "data": {
      "text/plain": [
       "Fecha-I       object\n",
       "Vlo-I          int64\n",
       "Ori-I         object\n",
       "Des-I         object\n",
       "Emp-I         object\n",
       "Fecha-O       object\n",
       "Vlo-O        float64\n",
       "Ori-O         object\n",
       "Des-O         object\n",
       "Emp-O         object\n",
       "DIA            int64\n",
       "MES            int64\n",
       "AÑO            int64\n",
       "DIANOM        object\n",
       "TIPOVUELO     object\n",
       "OPERA         object\n",
       "SIGLAORI      object\n",
       "SIGLADES      object\n",
       "dtype: object"
      ]
     },
     "execution_count": 5,
     "metadata": {},
     "output_type": "execute_result"
    }
   ],
   "source": [
    "# displaying data type of each column.\n",
    "data.dtypes"
   ]
  },
  {
   "cell_type": "code",
   "execution_count": 6,
   "metadata": {},
   "outputs": [
    {
     "name": "stdout",
     "output_type": "stream",
     "text": [
      "After dropping all entries with NA values, the number of total entries is: 68185\n"
     ]
    }
   ],
   "source": [
    "# let's delete all rows with NA values in one or more variables.\n",
    "data = data.dropna()\n",
    "print(f'After dropping all entries with NA values, the number of total entries is: {len(data)}')"
   ]
  },
  {
   "cell_type": "code",
   "execution_count": 7,
   "metadata": {},
   "outputs": [],
   "source": [
    "# parsing int64 and float64 values to int32 type.\n",
    "data[\"Vlo-I\"] = data[\"Vlo-I\"].astype('int32')\n",
    "data[\"Vlo-O\"] = data[\"Vlo-O\"].astype('int32')\n",
    "data[\"DIA\"] = data[\"DIA\"].astype('int32')\n",
    "data[\"MES\"] = data[\"MES\"].astype('int32')\n",
    "data[\"AÑO\"] = data[\"AÑO\"].astype('int32')\n"
   ]
  },
  {
   "cell_type": "code",
   "execution_count": 8,
   "metadata": {},
   "outputs": [
    {
     "data": {
      "text/plain": [
       "Fecha-I      object\n",
       "Vlo-I         int32\n",
       "Ori-I        object\n",
       "Des-I        object\n",
       "Emp-I        object\n",
       "Fecha-O      object\n",
       "Vlo-O         int32\n",
       "Ori-O        object\n",
       "Des-O        object\n",
       "Emp-O        object\n",
       "DIA           int32\n",
       "MES           int32\n",
       "AÑO           int32\n",
       "DIANOM       object\n",
       "TIPOVUELO    object\n",
       "OPERA        object\n",
       "SIGLAORI     object\n",
       "SIGLADES     object\n",
       "dtype: object"
      ]
     },
     "execution_count": 8,
     "metadata": {},
     "output_type": "execute_result"
    }
   ],
   "source": [
    "# displaying data type of each column.\n",
    "data.dtypes"
   ]
  },
  {
   "cell_type": "code",
   "execution_count": 9,
   "metadata": {},
   "outputs": [
    {
     "data": {
      "text/html": [
       "<div>\n",
       "<style scoped>\n",
       "    .dataframe tbody tr th:only-of-type {\n",
       "        vertical-align: middle;\n",
       "    }\n",
       "\n",
       "    .dataframe tbody tr th {\n",
       "        vertical-align: top;\n",
       "    }\n",
       "\n",
       "    .dataframe thead th {\n",
       "        text-align: right;\n",
       "    }\n",
       "</style>\n",
       "<table border=\"1\" class=\"dataframe\">\n",
       "  <thead>\n",
       "    <tr style=\"text-align: right;\">\n",
       "      <th></th>\n",
       "      <th>Fecha-I</th>\n",
       "      <th>Vlo-I</th>\n",
       "      <th>Ori-I</th>\n",
       "      <th>Des-I</th>\n",
       "      <th>Emp-I</th>\n",
       "      <th>Fecha-O</th>\n",
       "      <th>Vlo-O</th>\n",
       "      <th>Ori-O</th>\n",
       "      <th>Des-O</th>\n",
       "      <th>Emp-O</th>\n",
       "      <th>DIA</th>\n",
       "      <th>MES</th>\n",
       "      <th>AÑO</th>\n",
       "      <th>DIANOM</th>\n",
       "      <th>TIPOVUELO</th>\n",
       "      <th>OPERA</th>\n",
       "      <th>SIGLAORI</th>\n",
       "      <th>SIGLADES</th>\n",
       "    </tr>\n",
       "  </thead>\n",
       "  <tbody>\n",
       "    <tr>\n",
       "      <th>0</th>\n",
       "      <td>2017-01-01 23:30:00</td>\n",
       "      <td>226</td>\n",
       "      <td>SCEL</td>\n",
       "      <td>KMIA</td>\n",
       "      <td>AAL</td>\n",
       "      <td>2017-01-01 23:33:00</td>\n",
       "      <td>226</td>\n",
       "      <td>SCEL</td>\n",
       "      <td>KMIA</td>\n",
       "      <td>AAL</td>\n",
       "      <td>1</td>\n",
       "      <td>1</td>\n",
       "      <td>2017</td>\n",
       "      <td>Domingo</td>\n",
       "      <td>I</td>\n",
       "      <td>American Airlines</td>\n",
       "      <td>Santiago</td>\n",
       "      <td>Miami</td>\n",
       "    </tr>\n",
       "    <tr>\n",
       "      <th>1</th>\n",
       "      <td>2017-01-02 23:30:00</td>\n",
       "      <td>226</td>\n",
       "      <td>SCEL</td>\n",
       "      <td>KMIA</td>\n",
       "      <td>AAL</td>\n",
       "      <td>2017-01-02 23:39:00</td>\n",
       "      <td>226</td>\n",
       "      <td>SCEL</td>\n",
       "      <td>KMIA</td>\n",
       "      <td>AAL</td>\n",
       "      <td>2</td>\n",
       "      <td>1</td>\n",
       "      <td>2017</td>\n",
       "      <td>Lunes</td>\n",
       "      <td>I</td>\n",
       "      <td>American Airlines</td>\n",
       "      <td>Santiago</td>\n",
       "      <td>Miami</td>\n",
       "    </tr>\n",
       "    <tr>\n",
       "      <th>2</th>\n",
       "      <td>2017-01-03 23:30:00</td>\n",
       "      <td>226</td>\n",
       "      <td>SCEL</td>\n",
       "      <td>KMIA</td>\n",
       "      <td>AAL</td>\n",
       "      <td>2017-01-03 23:39:00</td>\n",
       "      <td>226</td>\n",
       "      <td>SCEL</td>\n",
       "      <td>KMIA</td>\n",
       "      <td>AAL</td>\n",
       "      <td>3</td>\n",
       "      <td>1</td>\n",
       "      <td>2017</td>\n",
       "      <td>Martes</td>\n",
       "      <td>I</td>\n",
       "      <td>American Airlines</td>\n",
       "      <td>Santiago</td>\n",
       "      <td>Miami</td>\n",
       "    </tr>\n",
       "    <tr>\n",
       "      <th>3</th>\n",
       "      <td>2017-01-04 23:30:00</td>\n",
       "      <td>226</td>\n",
       "      <td>SCEL</td>\n",
       "      <td>KMIA</td>\n",
       "      <td>AAL</td>\n",
       "      <td>2017-01-04 23:33:00</td>\n",
       "      <td>226</td>\n",
       "      <td>SCEL</td>\n",
       "      <td>KMIA</td>\n",
       "      <td>AAL</td>\n",
       "      <td>4</td>\n",
       "      <td>1</td>\n",
       "      <td>2017</td>\n",
       "      <td>Miercoles</td>\n",
       "      <td>I</td>\n",
       "      <td>American Airlines</td>\n",
       "      <td>Santiago</td>\n",
       "      <td>Miami</td>\n",
       "    </tr>\n",
       "    <tr>\n",
       "      <th>4</th>\n",
       "      <td>2017-01-05 23:30:00</td>\n",
       "      <td>226</td>\n",
       "      <td>SCEL</td>\n",
       "      <td>KMIA</td>\n",
       "      <td>AAL</td>\n",
       "      <td>2017-01-05 23:28:00</td>\n",
       "      <td>226</td>\n",
       "      <td>SCEL</td>\n",
       "      <td>KMIA</td>\n",
       "      <td>AAL</td>\n",
       "      <td>5</td>\n",
       "      <td>1</td>\n",
       "      <td>2017</td>\n",
       "      <td>Jueves</td>\n",
       "      <td>I</td>\n",
       "      <td>American Airlines</td>\n",
       "      <td>Santiago</td>\n",
       "      <td>Miami</td>\n",
       "    </tr>\n",
       "    <tr>\n",
       "      <th>...</th>\n",
       "      <td>...</td>\n",
       "      <td>...</td>\n",
       "      <td>...</td>\n",
       "      <td>...</td>\n",
       "      <td>...</td>\n",
       "      <td>...</td>\n",
       "      <td>...</td>\n",
       "      <td>...</td>\n",
       "      <td>...</td>\n",
       "      <td>...</td>\n",
       "      <td>...</td>\n",
       "      <td>...</td>\n",
       "      <td>...</td>\n",
       "      <td>...</td>\n",
       "      <td>...</td>\n",
       "      <td>...</td>\n",
       "      <td>...</td>\n",
       "      <td>...</td>\n",
       "    </tr>\n",
       "    <tr>\n",
       "      <th>68181</th>\n",
       "      <td>2017-12-22 14:55:00</td>\n",
       "      <td>400</td>\n",
       "      <td>SCEL</td>\n",
       "      <td>SPJC</td>\n",
       "      <td>JAT</td>\n",
       "      <td>2017-12-22 15:41:00</td>\n",
       "      <td>400</td>\n",
       "      <td>SCEL</td>\n",
       "      <td>SPJC</td>\n",
       "      <td>JAT</td>\n",
       "      <td>22</td>\n",
       "      <td>12</td>\n",
       "      <td>2017</td>\n",
       "      <td>Viernes</td>\n",
       "      <td>I</td>\n",
       "      <td>JetSmart SPA</td>\n",
       "      <td>Santiago</td>\n",
       "      <td>Lima</td>\n",
       "    </tr>\n",
       "    <tr>\n",
       "      <th>68182</th>\n",
       "      <td>2017-12-25 14:55:00</td>\n",
       "      <td>400</td>\n",
       "      <td>SCEL</td>\n",
       "      <td>SPJC</td>\n",
       "      <td>JAT</td>\n",
       "      <td>2017-12-25 15:11:00</td>\n",
       "      <td>400</td>\n",
       "      <td>SCEL</td>\n",
       "      <td>SPJC</td>\n",
       "      <td>JAT</td>\n",
       "      <td>25</td>\n",
       "      <td>12</td>\n",
       "      <td>2017</td>\n",
       "      <td>Lunes</td>\n",
       "      <td>I</td>\n",
       "      <td>JetSmart SPA</td>\n",
       "      <td>Santiago</td>\n",
       "      <td>Lima</td>\n",
       "    </tr>\n",
       "    <tr>\n",
       "      <th>68183</th>\n",
       "      <td>2017-12-27 14:55:00</td>\n",
       "      <td>400</td>\n",
       "      <td>SCEL</td>\n",
       "      <td>SPJC</td>\n",
       "      <td>JAT</td>\n",
       "      <td>2017-12-27 15:35:00</td>\n",
       "      <td>400</td>\n",
       "      <td>SCEL</td>\n",
       "      <td>SPJC</td>\n",
       "      <td>JAT</td>\n",
       "      <td>27</td>\n",
       "      <td>12</td>\n",
       "      <td>2017</td>\n",
       "      <td>Miercoles</td>\n",
       "      <td>I</td>\n",
       "      <td>JetSmart SPA</td>\n",
       "      <td>Santiago</td>\n",
       "      <td>Lima</td>\n",
       "    </tr>\n",
       "    <tr>\n",
       "      <th>68184</th>\n",
       "      <td>2017-12-29 14:55:00</td>\n",
       "      <td>400</td>\n",
       "      <td>SCEL</td>\n",
       "      <td>SPJC</td>\n",
       "      <td>JAT</td>\n",
       "      <td>2017-12-29 15:08:00</td>\n",
       "      <td>400</td>\n",
       "      <td>SCEL</td>\n",
       "      <td>SPJC</td>\n",
       "      <td>JAT</td>\n",
       "      <td>29</td>\n",
       "      <td>12</td>\n",
       "      <td>2017</td>\n",
       "      <td>Viernes</td>\n",
       "      <td>I</td>\n",
       "      <td>JetSmart SPA</td>\n",
       "      <td>Santiago</td>\n",
       "      <td>Lima</td>\n",
       "    </tr>\n",
       "    <tr>\n",
       "      <th>68185</th>\n",
       "      <td>2017-12-31 14:55:00</td>\n",
       "      <td>400</td>\n",
       "      <td>SCEL</td>\n",
       "      <td>SPJC</td>\n",
       "      <td>JAT</td>\n",
       "      <td>2017-12-31 15:04:00</td>\n",
       "      <td>400</td>\n",
       "      <td>SCEL</td>\n",
       "      <td>SPJC</td>\n",
       "      <td>JAT</td>\n",
       "      <td>31</td>\n",
       "      <td>12</td>\n",
       "      <td>2017</td>\n",
       "      <td>Domingo</td>\n",
       "      <td>I</td>\n",
       "      <td>JetSmart SPA</td>\n",
       "      <td>Santiago</td>\n",
       "      <td>Lima</td>\n",
       "    </tr>\n",
       "  </tbody>\n",
       "</table>\n",
       "<p>68185 rows × 18 columns</p>\n",
       "</div>"
      ],
      "text/plain": [
       "                   Fecha-I  Vlo-I Ori-I Des-I Emp-I              Fecha-O  \\\n",
       "0      2017-01-01 23:30:00    226  SCEL  KMIA   AAL  2017-01-01 23:33:00   \n",
       "1      2017-01-02 23:30:00    226  SCEL  KMIA   AAL  2017-01-02 23:39:00   \n",
       "2      2017-01-03 23:30:00    226  SCEL  KMIA   AAL  2017-01-03 23:39:00   \n",
       "3      2017-01-04 23:30:00    226  SCEL  KMIA   AAL  2017-01-04 23:33:00   \n",
       "4      2017-01-05 23:30:00    226  SCEL  KMIA   AAL  2017-01-05 23:28:00   \n",
       "...                    ...    ...   ...   ...   ...                  ...   \n",
       "68181  2017-12-22 14:55:00    400  SCEL  SPJC   JAT  2017-12-22 15:41:00   \n",
       "68182  2017-12-25 14:55:00    400  SCEL  SPJC   JAT  2017-12-25 15:11:00   \n",
       "68183  2017-12-27 14:55:00    400  SCEL  SPJC   JAT  2017-12-27 15:35:00   \n",
       "68184  2017-12-29 14:55:00    400  SCEL  SPJC   JAT  2017-12-29 15:08:00   \n",
       "68185  2017-12-31 14:55:00    400  SCEL  SPJC   JAT  2017-12-31 15:04:00   \n",
       "\n",
       "       Vlo-O Ori-O Des-O Emp-O  DIA  MES   AÑO     DIANOM TIPOVUELO  \\\n",
       "0        226  SCEL  KMIA   AAL    1    1  2017    Domingo         I   \n",
       "1        226  SCEL  KMIA   AAL    2    1  2017      Lunes         I   \n",
       "2        226  SCEL  KMIA   AAL    3    1  2017     Martes         I   \n",
       "3        226  SCEL  KMIA   AAL    4    1  2017  Miercoles         I   \n",
       "4        226  SCEL  KMIA   AAL    5    1  2017     Jueves         I   \n",
       "...      ...   ...   ...   ...  ...  ...   ...        ...       ...   \n",
       "68181    400  SCEL  SPJC   JAT   22   12  2017    Viernes         I   \n",
       "68182    400  SCEL  SPJC   JAT   25   12  2017      Lunes         I   \n",
       "68183    400  SCEL  SPJC   JAT   27   12  2017  Miercoles         I   \n",
       "68184    400  SCEL  SPJC   JAT   29   12  2017    Viernes         I   \n",
       "68185    400  SCEL  SPJC   JAT   31   12  2017    Domingo         I   \n",
       "\n",
       "                   OPERA  SIGLAORI SIGLADES  \n",
       "0      American Airlines  Santiago    Miami  \n",
       "1      American Airlines  Santiago    Miami  \n",
       "2      American Airlines  Santiago    Miami  \n",
       "3      American Airlines  Santiago    Miami  \n",
       "4      American Airlines  Santiago    Miami  \n",
       "...                  ...       ...      ...  \n",
       "68181       JetSmart SPA  Santiago     Lima  \n",
       "68182       JetSmart SPA  Santiago     Lima  \n",
       "68183       JetSmart SPA  Santiago     Lima  \n",
       "68184       JetSmart SPA  Santiago     Lima  \n",
       "68185       JetSmart SPA  Santiago     Lima  \n",
       "\n",
       "[68185 rows x 18 columns]"
      ]
     },
     "execution_count": 9,
     "metadata": {},
     "output_type": "execute_result"
    }
   ],
   "source": [
    "# displaying the data.\n",
    "data"
   ]
  },
  {
   "cell_type": "markdown",
   "metadata": {},
   "source": [
    "We have 18 columns with different data type values. As each variable could have different string and numerical values, we need to assess that all the columns provide good information."
   ]
  },
  {
   "cell_type": "code",
   "execution_count": 10,
   "metadata": {},
   "outputs": [],
   "source": [
    "clean_df = data.copy()"
   ]
  },
  {
   "cell_type": "markdown",
   "metadata": {},
   "source": [
    "Getting all the unique values for specific columns, as well as the number of entries for some values"
   ]
  },
  {
   "cell_type": "code",
   "execution_count": 11,
   "metadata": {},
   "outputs": [
    {
     "name": "stdout",
     "output_type": "stream",
     "text": [
      "The unique values for Ori-I variable are: ['SCEL']\n"
     ]
    }
   ],
   "source": [
    "print(f'The unique values for Ori-I variable are: {clean_df[\"Ori-I\"].unique()}')"
   ]
  },
  {
   "cell_type": "code",
   "execution_count": 12,
   "metadata": {},
   "outputs": [
    {
     "name": "stdout",
     "output_type": "stream",
     "text": [
      "The unique values for Ori-O variable are: ['SCEL']\n"
     ]
    }
   ],
   "source": [
    "print(f'The unique values for Ori-O variable are: {clean_df[\"Ori-O\"].unique()}')"
   ]
  },
  {
   "cell_type": "code",
   "execution_count": 13,
   "metadata": {},
   "outputs": [
    {
     "name": "stdout",
     "output_type": "stream",
     "text": [
      "The unique values for AÑO variable are: [2017 2018]\n",
      "The number of entries for 2017 is: 68183\n",
      "The number of entries for 2018 is: 2\n"
     ]
    }
   ],
   "source": [
    "print(f'The unique values for AÑO variable are: {clean_df[\"AÑO\"].unique()}')\n",
    "rows_2017 = len(clean_df.query('AÑO==2017'))\n",
    "rows_2018 = len(clean_df.query('AÑO==2018'))\n",
    "print(f'The number of entries for 2017 is: {rows_2017}')\n",
    "print(f'The number of entries for 2018 is: {rows_2018}')\n"
   ]
  },
  {
   "cell_type": "code",
   "execution_count": 14,
   "metadata": {},
   "outputs": [
    {
     "name": "stdout",
     "output_type": "stream",
     "text": [
      "The unique values for OPERA variable are: \n",
      "['American Airlines' 'Air Canada' 'Air France' 'Aeromexico'\n",
      " 'Aerolineas Argentinas' 'Austral' 'Avianca' 'Alitalia' 'British Airways'\n",
      " 'Copa Air' 'Delta Air' 'Gol Trans' 'Iberia' 'K.L.M.' 'Qantas Airways'\n",
      " 'United Airlines' 'Grupo LATAM' 'Sky Airline' 'Latin American Wings'\n",
      " 'Plus Ultra Lineas Aereas' 'JetSmart SPA' 'Oceanair Linhas Aereas'\n",
      " 'Lacsa']\n"
     ]
    }
   ],
   "source": [
    "print(f'The unique values for OPERA variable are: \\n{clean_df[\"OPERA\"].unique()}')"
   ]
  },
  {
   "cell_type": "code",
   "execution_count": 15,
   "metadata": {},
   "outputs": [
    {
     "name": "stdout",
     "output_type": "stream",
     "text": [
      "The unique values for TIPOVUELO variable are: ['I' 'N']\n",
      "The number of entries for national flights is: 36957\n",
      "The number of entries for international flights is: 31228\n"
     ]
    }
   ],
   "source": [
    "print(f'The unique values for TIPOVUELO variable are: {clean_df[\"TIPOVUELO\"].unique()}')\n",
    "national_fligh = (sum(clean_df['TIPOVUELO']=='N'))\n",
    "international_flights = sum(clean_df['TIPOVUELO']=='I')\n",
    "print(f'The number of entries for national flights is: {national_fligh}')\n",
    "print(f'The number of entries for international flights is: {international_flights}')\n"
   ]
  },
  {
   "cell_type": "code",
   "execution_count": 16,
   "metadata": {},
   "outputs": [
    {
     "name": "stdout",
     "output_type": "stream",
     "text": [
      "The unique values for SIGLAORI variable are: ['Santiago']\n"
     ]
    }
   ],
   "source": [
    "print(f'The unique values for SIGLAORI variable are: {clean_df[\"SIGLAORI\"].unique()}')"
   ]
  },
  {
   "cell_type": "code",
   "execution_count": 17,
   "metadata": {},
   "outputs": [
    {
     "name": "stdout",
     "output_type": "stream",
     "text": [
      "The unique values for SIGLADES variable are: \n",
      "['Miami' 'Dallas' 'Buenos Aires' 'Toronto' 'Paris' 'Ciudad de Mexico'\n",
      " 'Bogota' 'Roma' 'Londres' 'Ciudad de Panama' 'Atlanta' 'Sao Paulo'\n",
      " 'Rio de Janeiro' 'Florianapolis' 'Madrid' 'Lima' 'Sydney' 'Houston'\n",
      " 'Asuncion' 'Cataratas Iguacu' 'Puerto Montt' 'Punta Arenas'\n",
      " 'Puerto Natales' 'Balmaceda' 'Temuco' 'Valdivia' 'Concepcion' 'La Serena'\n",
      " 'Copiapo' 'Calama' 'Antofagasta' 'Iquique' 'Arica' 'Mendoza' 'Cordoba'\n",
      " 'Montevideo' 'Castro (Chiloe)' 'Osorno' 'Orlando' 'Nueva York'\n",
      " 'Guayaquil' 'Cancun' 'Punta Cana' 'Los Angeles' 'Auckland N.Z.'\n",
      " 'Isla de Pascua' 'La Paz' 'Santa Cruz' 'Curitiba, Bra.' 'Quito'\n",
      " 'Bariloche' 'Rosario' 'Washington' 'Tucuman' 'Melbourne' 'San Juan, Arg.'\n",
      " 'Neuquen' 'Pisco, Peru' 'Ushuia' 'Puerto Stanley' 'Punta del Este'\n",
      " 'Cochabamba']\n"
     ]
    }
   ],
   "source": [
    "print(f'The unique values for SIGLADES variable are: \\n{clean_df[\"SIGLADES\"].unique()}')"
   ]
  },
  {
   "cell_type": "code",
   "execution_count": 18,
   "metadata": {},
   "outputs": [],
   "source": [
    "# The columns Ori-I and Ori-O have just one value (actually the same value in all their entries)\n",
    "# The columns will be droped because they do not provide extra information to predict the delay of the flights\n",
    "columns_to_drop = ['Ori-I', 'Ori-O']\n",
    "clean_df = clean_df.drop(columns_to_drop, axis=1)"
   ]
  },
  {
   "cell_type": "code",
   "execution_count": 19,
   "metadata": {},
   "outputs": [],
   "source": [
    "# The AÑO variable has just two different values: 2017 and 2018.\n",
    "# For 2018 we only have 2 entries, so the entries for 2018 will be dropped.\n",
    "clean_df = clean_df[clean_df.AÑO != 2018] \n",
    "# As we have just one value for the AÑO variable after removing the entries with value of 2018, \n",
    "# the variable AÑO will be dropped because it does not provide more information to predict delay of the flights.\n",
    "clean_df = clean_df.drop(\"AÑO\", axis=1)"
   ]
  },
  {
   "cell_type": "code",
   "execution_count": 20,
   "metadata": {},
   "outputs": [],
   "source": [
    "# The column \"SIGLAORI\" is the only one column that still has the same value for each row (Santiago)\n",
    "# So the column will be dropped because it does not provide more information to predict dalay of the flights\n",
    "clean_df = clean_df.drop(\"SIGLAORI\", axis=1)"
   ]
  },
  {
   "cell_type": "code",
   "execution_count": 21,
   "metadata": {},
   "outputs": [
    {
     "data": {
      "text/html": [
       "<div>\n",
       "<style scoped>\n",
       "    .dataframe tbody tr th:only-of-type {\n",
       "        vertical-align: middle;\n",
       "    }\n",
       "\n",
       "    .dataframe tbody tr th {\n",
       "        vertical-align: top;\n",
       "    }\n",
       "\n",
       "    .dataframe thead th {\n",
       "        text-align: right;\n",
       "    }\n",
       "</style>\n",
       "<table border=\"1\" class=\"dataframe\">\n",
       "  <thead>\n",
       "    <tr style=\"text-align: right;\">\n",
       "      <th></th>\n",
       "      <th>Fecha-I</th>\n",
       "      <th>Vlo-I</th>\n",
       "      <th>Des-I</th>\n",
       "      <th>Emp-I</th>\n",
       "      <th>Fecha-O</th>\n",
       "      <th>Vlo-O</th>\n",
       "      <th>Des-O</th>\n",
       "      <th>Emp-O</th>\n",
       "      <th>DIA</th>\n",
       "      <th>MES</th>\n",
       "      <th>DIANOM</th>\n",
       "      <th>TIPOVUELO</th>\n",
       "      <th>OPERA</th>\n",
       "      <th>SIGLADES</th>\n",
       "    </tr>\n",
       "  </thead>\n",
       "  <tbody>\n",
       "    <tr>\n",
       "      <th>0</th>\n",
       "      <td>2017-01-01 23:30:00</td>\n",
       "      <td>226</td>\n",
       "      <td>KMIA</td>\n",
       "      <td>AAL</td>\n",
       "      <td>2017-01-01 23:33:00</td>\n",
       "      <td>226</td>\n",
       "      <td>KMIA</td>\n",
       "      <td>AAL</td>\n",
       "      <td>1</td>\n",
       "      <td>1</td>\n",
       "      <td>Domingo</td>\n",
       "      <td>I</td>\n",
       "      <td>American Airlines</td>\n",
       "      <td>Miami</td>\n",
       "    </tr>\n",
       "    <tr>\n",
       "      <th>1</th>\n",
       "      <td>2017-01-02 23:30:00</td>\n",
       "      <td>226</td>\n",
       "      <td>KMIA</td>\n",
       "      <td>AAL</td>\n",
       "      <td>2017-01-02 23:39:00</td>\n",
       "      <td>226</td>\n",
       "      <td>KMIA</td>\n",
       "      <td>AAL</td>\n",
       "      <td>2</td>\n",
       "      <td>1</td>\n",
       "      <td>Lunes</td>\n",
       "      <td>I</td>\n",
       "      <td>American Airlines</td>\n",
       "      <td>Miami</td>\n",
       "    </tr>\n",
       "    <tr>\n",
       "      <th>2</th>\n",
       "      <td>2017-01-03 23:30:00</td>\n",
       "      <td>226</td>\n",
       "      <td>KMIA</td>\n",
       "      <td>AAL</td>\n",
       "      <td>2017-01-03 23:39:00</td>\n",
       "      <td>226</td>\n",
       "      <td>KMIA</td>\n",
       "      <td>AAL</td>\n",
       "      <td>3</td>\n",
       "      <td>1</td>\n",
       "      <td>Martes</td>\n",
       "      <td>I</td>\n",
       "      <td>American Airlines</td>\n",
       "      <td>Miami</td>\n",
       "    </tr>\n",
       "    <tr>\n",
       "      <th>3</th>\n",
       "      <td>2017-01-04 23:30:00</td>\n",
       "      <td>226</td>\n",
       "      <td>KMIA</td>\n",
       "      <td>AAL</td>\n",
       "      <td>2017-01-04 23:33:00</td>\n",
       "      <td>226</td>\n",
       "      <td>KMIA</td>\n",
       "      <td>AAL</td>\n",
       "      <td>4</td>\n",
       "      <td>1</td>\n",
       "      <td>Miercoles</td>\n",
       "      <td>I</td>\n",
       "      <td>American Airlines</td>\n",
       "      <td>Miami</td>\n",
       "    </tr>\n",
       "    <tr>\n",
       "      <th>4</th>\n",
       "      <td>2017-01-05 23:30:00</td>\n",
       "      <td>226</td>\n",
       "      <td>KMIA</td>\n",
       "      <td>AAL</td>\n",
       "      <td>2017-01-05 23:28:00</td>\n",
       "      <td>226</td>\n",
       "      <td>KMIA</td>\n",
       "      <td>AAL</td>\n",
       "      <td>5</td>\n",
       "      <td>1</td>\n",
       "      <td>Jueves</td>\n",
       "      <td>I</td>\n",
       "      <td>American Airlines</td>\n",
       "      <td>Miami</td>\n",
       "    </tr>\n",
       "    <tr>\n",
       "      <th>...</th>\n",
       "      <td>...</td>\n",
       "      <td>...</td>\n",
       "      <td>...</td>\n",
       "      <td>...</td>\n",
       "      <td>...</td>\n",
       "      <td>...</td>\n",
       "      <td>...</td>\n",
       "      <td>...</td>\n",
       "      <td>...</td>\n",
       "      <td>...</td>\n",
       "      <td>...</td>\n",
       "      <td>...</td>\n",
       "      <td>...</td>\n",
       "      <td>...</td>\n",
       "    </tr>\n",
       "    <tr>\n",
       "      <th>68181</th>\n",
       "      <td>2017-12-22 14:55:00</td>\n",
       "      <td>400</td>\n",
       "      <td>SPJC</td>\n",
       "      <td>JAT</td>\n",
       "      <td>2017-12-22 15:41:00</td>\n",
       "      <td>400</td>\n",
       "      <td>SPJC</td>\n",
       "      <td>JAT</td>\n",
       "      <td>22</td>\n",
       "      <td>12</td>\n",
       "      <td>Viernes</td>\n",
       "      <td>I</td>\n",
       "      <td>JetSmart SPA</td>\n",
       "      <td>Lima</td>\n",
       "    </tr>\n",
       "    <tr>\n",
       "      <th>68182</th>\n",
       "      <td>2017-12-25 14:55:00</td>\n",
       "      <td>400</td>\n",
       "      <td>SPJC</td>\n",
       "      <td>JAT</td>\n",
       "      <td>2017-12-25 15:11:00</td>\n",
       "      <td>400</td>\n",
       "      <td>SPJC</td>\n",
       "      <td>JAT</td>\n",
       "      <td>25</td>\n",
       "      <td>12</td>\n",
       "      <td>Lunes</td>\n",
       "      <td>I</td>\n",
       "      <td>JetSmart SPA</td>\n",
       "      <td>Lima</td>\n",
       "    </tr>\n",
       "    <tr>\n",
       "      <th>68183</th>\n",
       "      <td>2017-12-27 14:55:00</td>\n",
       "      <td>400</td>\n",
       "      <td>SPJC</td>\n",
       "      <td>JAT</td>\n",
       "      <td>2017-12-27 15:35:00</td>\n",
       "      <td>400</td>\n",
       "      <td>SPJC</td>\n",
       "      <td>JAT</td>\n",
       "      <td>27</td>\n",
       "      <td>12</td>\n",
       "      <td>Miercoles</td>\n",
       "      <td>I</td>\n",
       "      <td>JetSmart SPA</td>\n",
       "      <td>Lima</td>\n",
       "    </tr>\n",
       "    <tr>\n",
       "      <th>68184</th>\n",
       "      <td>2017-12-29 14:55:00</td>\n",
       "      <td>400</td>\n",
       "      <td>SPJC</td>\n",
       "      <td>JAT</td>\n",
       "      <td>2017-12-29 15:08:00</td>\n",
       "      <td>400</td>\n",
       "      <td>SPJC</td>\n",
       "      <td>JAT</td>\n",
       "      <td>29</td>\n",
       "      <td>12</td>\n",
       "      <td>Viernes</td>\n",
       "      <td>I</td>\n",
       "      <td>JetSmart SPA</td>\n",
       "      <td>Lima</td>\n",
       "    </tr>\n",
       "    <tr>\n",
       "      <th>68185</th>\n",
       "      <td>2017-12-31 14:55:00</td>\n",
       "      <td>400</td>\n",
       "      <td>SPJC</td>\n",
       "      <td>JAT</td>\n",
       "      <td>2017-12-31 15:04:00</td>\n",
       "      <td>400</td>\n",
       "      <td>SPJC</td>\n",
       "      <td>JAT</td>\n",
       "      <td>31</td>\n",
       "      <td>12</td>\n",
       "      <td>Domingo</td>\n",
       "      <td>I</td>\n",
       "      <td>JetSmart SPA</td>\n",
       "      <td>Lima</td>\n",
       "    </tr>\n",
       "  </tbody>\n",
       "</table>\n",
       "<p>68183 rows × 14 columns</p>\n",
       "</div>"
      ],
      "text/plain": [
       "                   Fecha-I  Vlo-I Des-I Emp-I              Fecha-O  Vlo-O  \\\n",
       "0      2017-01-01 23:30:00    226  KMIA   AAL  2017-01-01 23:33:00    226   \n",
       "1      2017-01-02 23:30:00    226  KMIA   AAL  2017-01-02 23:39:00    226   \n",
       "2      2017-01-03 23:30:00    226  KMIA   AAL  2017-01-03 23:39:00    226   \n",
       "3      2017-01-04 23:30:00    226  KMIA   AAL  2017-01-04 23:33:00    226   \n",
       "4      2017-01-05 23:30:00    226  KMIA   AAL  2017-01-05 23:28:00    226   \n",
       "...                    ...    ...   ...   ...                  ...    ...   \n",
       "68181  2017-12-22 14:55:00    400  SPJC   JAT  2017-12-22 15:41:00    400   \n",
       "68182  2017-12-25 14:55:00    400  SPJC   JAT  2017-12-25 15:11:00    400   \n",
       "68183  2017-12-27 14:55:00    400  SPJC   JAT  2017-12-27 15:35:00    400   \n",
       "68184  2017-12-29 14:55:00    400  SPJC   JAT  2017-12-29 15:08:00    400   \n",
       "68185  2017-12-31 14:55:00    400  SPJC   JAT  2017-12-31 15:04:00    400   \n",
       "\n",
       "      Des-O Emp-O  DIA  MES     DIANOM TIPOVUELO              OPERA SIGLADES  \n",
       "0      KMIA   AAL    1    1    Domingo         I  American Airlines    Miami  \n",
       "1      KMIA   AAL    2    1      Lunes         I  American Airlines    Miami  \n",
       "2      KMIA   AAL    3    1     Martes         I  American Airlines    Miami  \n",
       "3      KMIA   AAL    4    1  Miercoles         I  American Airlines    Miami  \n",
       "4      KMIA   AAL    5    1     Jueves         I  American Airlines    Miami  \n",
       "...     ...   ...  ...  ...        ...       ...                ...      ...  \n",
       "68181  SPJC   JAT   22   12    Viernes         I       JetSmart SPA     Lima  \n",
       "68182  SPJC   JAT   25   12      Lunes         I       JetSmart SPA     Lima  \n",
       "68183  SPJC   JAT   27   12  Miercoles         I       JetSmart SPA     Lima  \n",
       "68184  SPJC   JAT   29   12    Viernes         I       JetSmart SPA     Lima  \n",
       "68185  SPJC   JAT   31   12    Domingo         I       JetSmart SPA     Lima  \n",
       "\n",
       "[68183 rows x 14 columns]"
      ]
     },
     "execution_count": 21,
     "metadata": {},
     "output_type": "execute_result"
    }
   ],
   "source": [
    "clean_df"
   ]
  },
  {
   "cell_type": "code",
   "execution_count": 28,
   "metadata": {},
   "outputs": [
    {
     "name": "stdout",
     "output_type": "stream",
     "text": [
      "The number of flight codes changed is: 100\n"
     ]
    }
   ],
   "source": [
    "comparissons = np.where(clean_df['Vlo-I']!=clean_df['Vlo-O'], True, False)\n",
    "print(f'The number of flight codes changed is: {sum(comparissons)}')"
   ]
  },
  {
   "cell_type": "markdown",
   "metadata": {},
   "source": [
    "## Mapping variables"
   ]
  },
  {
   "cell_type": "code",
   "execution_count": 58,
   "metadata": {},
   "outputs": [],
   "source": [
    "map_month = {\n",
    "    1: 'Enero',\n",
    "    2: 'Febrero',\n",
    "    3: 'Marzo',\n",
    "    4: 'Abril',\n",
    "    5: 'Mayo',\n",
    "    6: 'Junio',\n",
    "    7: 'Julio',\n",
    "    8: 'Agosto',\n",
    "    9: 'Septiembre',\n",
    "    10: 'Octubre',\n",
    "    11: 'Noviembre',\n",
    "    12: 'Diciembre',\n",
    "}\n",
    "clean_df['MES'] = clean_df['MES'].map(map_month)"
   ]
  },
  {
   "cell_type": "code",
   "execution_count": 59,
   "metadata": {},
   "outputs": [
    {
     "data": {
      "text/html": [
       "<div>\n",
       "<style scoped>\n",
       "    .dataframe tbody tr th:only-of-type {\n",
       "        vertical-align: middle;\n",
       "    }\n",
       "\n",
       "    .dataframe tbody tr th {\n",
       "        vertical-align: top;\n",
       "    }\n",
       "\n",
       "    .dataframe thead th {\n",
       "        text-align: right;\n",
       "    }\n",
       "</style>\n",
       "<table border=\"1\" class=\"dataframe\">\n",
       "  <thead>\n",
       "    <tr style=\"text-align: right;\">\n",
       "      <th></th>\n",
       "      <th>Fecha-I</th>\n",
       "      <th>Vlo-I</th>\n",
       "      <th>Des-I</th>\n",
       "      <th>Emp-I</th>\n",
       "      <th>Fecha-O</th>\n",
       "      <th>Vlo-O</th>\n",
       "      <th>Des-O</th>\n",
       "      <th>Emp-O</th>\n",
       "      <th>DIA</th>\n",
       "      <th>MES</th>\n",
       "      <th>DIANOM</th>\n",
       "      <th>TIPOVUELO</th>\n",
       "      <th>OPERA</th>\n",
       "      <th>SIGLADES</th>\n",
       "    </tr>\n",
       "  </thead>\n",
       "  <tbody>\n",
       "    <tr>\n",
       "      <th>0</th>\n",
       "      <td>2017-01-01 23:30:00</td>\n",
       "      <td>226</td>\n",
       "      <td>KMIA</td>\n",
       "      <td>AAL</td>\n",
       "      <td>2017-01-01 23:33:00</td>\n",
       "      <td>226</td>\n",
       "      <td>KMIA</td>\n",
       "      <td>AAL</td>\n",
       "      <td>1</td>\n",
       "      <td>Enero</td>\n",
       "      <td>Domingo</td>\n",
       "      <td>I</td>\n",
       "      <td>American Airlines</td>\n",
       "      <td>Miami</td>\n",
       "    </tr>\n",
       "    <tr>\n",
       "      <th>1</th>\n",
       "      <td>2017-01-02 23:30:00</td>\n",
       "      <td>226</td>\n",
       "      <td>KMIA</td>\n",
       "      <td>AAL</td>\n",
       "      <td>2017-01-02 23:39:00</td>\n",
       "      <td>226</td>\n",
       "      <td>KMIA</td>\n",
       "      <td>AAL</td>\n",
       "      <td>2</td>\n",
       "      <td>Enero</td>\n",
       "      <td>Lunes</td>\n",
       "      <td>I</td>\n",
       "      <td>American Airlines</td>\n",
       "      <td>Miami</td>\n",
       "    </tr>\n",
       "    <tr>\n",
       "      <th>2</th>\n",
       "      <td>2017-01-03 23:30:00</td>\n",
       "      <td>226</td>\n",
       "      <td>KMIA</td>\n",
       "      <td>AAL</td>\n",
       "      <td>2017-01-03 23:39:00</td>\n",
       "      <td>226</td>\n",
       "      <td>KMIA</td>\n",
       "      <td>AAL</td>\n",
       "      <td>3</td>\n",
       "      <td>Enero</td>\n",
       "      <td>Martes</td>\n",
       "      <td>I</td>\n",
       "      <td>American Airlines</td>\n",
       "      <td>Miami</td>\n",
       "    </tr>\n",
       "    <tr>\n",
       "      <th>3</th>\n",
       "      <td>2017-01-04 23:30:00</td>\n",
       "      <td>226</td>\n",
       "      <td>KMIA</td>\n",
       "      <td>AAL</td>\n",
       "      <td>2017-01-04 23:33:00</td>\n",
       "      <td>226</td>\n",
       "      <td>KMIA</td>\n",
       "      <td>AAL</td>\n",
       "      <td>4</td>\n",
       "      <td>Enero</td>\n",
       "      <td>Miercoles</td>\n",
       "      <td>I</td>\n",
       "      <td>American Airlines</td>\n",
       "      <td>Miami</td>\n",
       "    </tr>\n",
       "    <tr>\n",
       "      <th>4</th>\n",
       "      <td>2017-01-05 23:30:00</td>\n",
       "      <td>226</td>\n",
       "      <td>KMIA</td>\n",
       "      <td>AAL</td>\n",
       "      <td>2017-01-05 23:28:00</td>\n",
       "      <td>226</td>\n",
       "      <td>KMIA</td>\n",
       "      <td>AAL</td>\n",
       "      <td>5</td>\n",
       "      <td>Enero</td>\n",
       "      <td>Jueves</td>\n",
       "      <td>I</td>\n",
       "      <td>American Airlines</td>\n",
       "      <td>Miami</td>\n",
       "    </tr>\n",
       "    <tr>\n",
       "      <th>...</th>\n",
       "      <td>...</td>\n",
       "      <td>...</td>\n",
       "      <td>...</td>\n",
       "      <td>...</td>\n",
       "      <td>...</td>\n",
       "      <td>...</td>\n",
       "      <td>...</td>\n",
       "      <td>...</td>\n",
       "      <td>...</td>\n",
       "      <td>...</td>\n",
       "      <td>...</td>\n",
       "      <td>...</td>\n",
       "      <td>...</td>\n",
       "      <td>...</td>\n",
       "    </tr>\n",
       "    <tr>\n",
       "      <th>68181</th>\n",
       "      <td>2017-12-22 14:55:00</td>\n",
       "      <td>400</td>\n",
       "      <td>SPJC</td>\n",
       "      <td>JAT</td>\n",
       "      <td>2017-12-22 15:41:00</td>\n",
       "      <td>400</td>\n",
       "      <td>SPJC</td>\n",
       "      <td>JAT</td>\n",
       "      <td>22</td>\n",
       "      <td>Diciembre</td>\n",
       "      <td>Viernes</td>\n",
       "      <td>I</td>\n",
       "      <td>JetSmart SPA</td>\n",
       "      <td>Lima</td>\n",
       "    </tr>\n",
       "    <tr>\n",
       "      <th>68182</th>\n",
       "      <td>2017-12-25 14:55:00</td>\n",
       "      <td>400</td>\n",
       "      <td>SPJC</td>\n",
       "      <td>JAT</td>\n",
       "      <td>2017-12-25 15:11:00</td>\n",
       "      <td>400</td>\n",
       "      <td>SPJC</td>\n",
       "      <td>JAT</td>\n",
       "      <td>25</td>\n",
       "      <td>Diciembre</td>\n",
       "      <td>Lunes</td>\n",
       "      <td>I</td>\n",
       "      <td>JetSmart SPA</td>\n",
       "      <td>Lima</td>\n",
       "    </tr>\n",
       "    <tr>\n",
       "      <th>68183</th>\n",
       "      <td>2017-12-27 14:55:00</td>\n",
       "      <td>400</td>\n",
       "      <td>SPJC</td>\n",
       "      <td>JAT</td>\n",
       "      <td>2017-12-27 15:35:00</td>\n",
       "      <td>400</td>\n",
       "      <td>SPJC</td>\n",
       "      <td>JAT</td>\n",
       "      <td>27</td>\n",
       "      <td>Diciembre</td>\n",
       "      <td>Miercoles</td>\n",
       "      <td>I</td>\n",
       "      <td>JetSmart SPA</td>\n",
       "      <td>Lima</td>\n",
       "    </tr>\n",
       "    <tr>\n",
       "      <th>68184</th>\n",
       "      <td>2017-12-29 14:55:00</td>\n",
       "      <td>400</td>\n",
       "      <td>SPJC</td>\n",
       "      <td>JAT</td>\n",
       "      <td>2017-12-29 15:08:00</td>\n",
       "      <td>400</td>\n",
       "      <td>SPJC</td>\n",
       "      <td>JAT</td>\n",
       "      <td>29</td>\n",
       "      <td>Diciembre</td>\n",
       "      <td>Viernes</td>\n",
       "      <td>I</td>\n",
       "      <td>JetSmart SPA</td>\n",
       "      <td>Lima</td>\n",
       "    </tr>\n",
       "    <tr>\n",
       "      <th>68185</th>\n",
       "      <td>2017-12-31 14:55:00</td>\n",
       "      <td>400</td>\n",
       "      <td>SPJC</td>\n",
       "      <td>JAT</td>\n",
       "      <td>2017-12-31 15:04:00</td>\n",
       "      <td>400</td>\n",
       "      <td>SPJC</td>\n",
       "      <td>JAT</td>\n",
       "      <td>31</td>\n",
       "      <td>Diciembre</td>\n",
       "      <td>Domingo</td>\n",
       "      <td>I</td>\n",
       "      <td>JetSmart SPA</td>\n",
       "      <td>Lima</td>\n",
       "    </tr>\n",
       "  </tbody>\n",
       "</table>\n",
       "<p>68183 rows × 14 columns</p>\n",
       "</div>"
      ],
      "text/plain": [
       "                   Fecha-I  Vlo-I Des-I Emp-I              Fecha-O  Vlo-O  \\\n",
       "0      2017-01-01 23:30:00    226  KMIA   AAL  2017-01-01 23:33:00    226   \n",
       "1      2017-01-02 23:30:00    226  KMIA   AAL  2017-01-02 23:39:00    226   \n",
       "2      2017-01-03 23:30:00    226  KMIA   AAL  2017-01-03 23:39:00    226   \n",
       "3      2017-01-04 23:30:00    226  KMIA   AAL  2017-01-04 23:33:00    226   \n",
       "4      2017-01-05 23:30:00    226  KMIA   AAL  2017-01-05 23:28:00    226   \n",
       "...                    ...    ...   ...   ...                  ...    ...   \n",
       "68181  2017-12-22 14:55:00    400  SPJC   JAT  2017-12-22 15:41:00    400   \n",
       "68182  2017-12-25 14:55:00    400  SPJC   JAT  2017-12-25 15:11:00    400   \n",
       "68183  2017-12-27 14:55:00    400  SPJC   JAT  2017-12-27 15:35:00    400   \n",
       "68184  2017-12-29 14:55:00    400  SPJC   JAT  2017-12-29 15:08:00    400   \n",
       "68185  2017-12-31 14:55:00    400  SPJC   JAT  2017-12-31 15:04:00    400   \n",
       "\n",
       "      Des-O Emp-O  DIA        MES     DIANOM TIPOVUELO              OPERA  \\\n",
       "0      KMIA   AAL    1      Enero    Domingo         I  American Airlines   \n",
       "1      KMIA   AAL    2      Enero      Lunes         I  American Airlines   \n",
       "2      KMIA   AAL    3      Enero     Martes         I  American Airlines   \n",
       "3      KMIA   AAL    4      Enero  Miercoles         I  American Airlines   \n",
       "4      KMIA   AAL    5      Enero     Jueves         I  American Airlines   \n",
       "...     ...   ...  ...        ...        ...       ...                ...   \n",
       "68181  SPJC   JAT   22  Diciembre    Viernes         I       JetSmart SPA   \n",
       "68182  SPJC   JAT   25  Diciembre      Lunes         I       JetSmart SPA   \n",
       "68183  SPJC   JAT   27  Diciembre  Miercoles         I       JetSmart SPA   \n",
       "68184  SPJC   JAT   29  Diciembre    Viernes         I       JetSmart SPA   \n",
       "68185  SPJC   JAT   31  Diciembre    Domingo         I       JetSmart SPA   \n",
       "\n",
       "      SIGLADES  \n",
       "0        Miami  \n",
       "1        Miami  \n",
       "2        Miami  \n",
       "3        Miami  \n",
       "4        Miami  \n",
       "...        ...  \n",
       "68181     Lima  \n",
       "68182     Lima  \n",
       "68183     Lima  \n",
       "68184     Lima  \n",
       "68185     Lima  \n",
       "\n",
       "[68183 rows x 14 columns]"
      ]
     },
     "execution_count": 59,
     "metadata": {},
     "output_type": "execute_result"
    }
   ],
   "source": [
    "clean_df"
   ]
  },
  {
   "cell_type": "markdown",
   "metadata": {},
   "source": [
    "## Data visualization"
   ]
  },
  {
   "cell_type": "markdown",
   "metadata": {},
   "source": [
    "#### Distribution of flights by day"
   ]
  },
  {
   "cell_type": "code",
   "execution_count": 57,
   "metadata": {},
   "outputs": [
    {
     "data": {
      "image/png": "[encoded data removed]",
      "text/plain": [
       "<Figure size 1200x600 with 1 Axes>"
      ]
     },
     "metadata": {
      "needs_background": "light"
     },
     "output_type": "display_data"
    }
   ],
   "source": [
    "fig, ax = plt.subplots(1, figsize=(8, 4), dpi = 150)\n",
    "ax.set_ylabel('Number of flights')\n",
    "ax.set_xlabel('Day of the month')\n",
    "sns.countplot(ax=ax, x='DIA', data=clean_df)\n",
    "sns.despine()"
   ]
  },
  {
   "cell_type": "markdown",
   "metadata": {},
   "source": [
    "#### Distribution of flights by month"
   ]
  },
  {
   "cell_type": "code",
   "execution_count": 50,
   "metadata": {},
   "outputs": [
    {
     "data": {
      "image/png": "[encoded data removed]",
      "text/plain": [
       "<Figure size 1200x600 with 1 Axes>"
      ]
     },
     "metadata": {
      "needs_background": "light"
     },
     "output_type": "display_data"
    }
   ],
   "source": [
    "fig, ax = plt.subplots(1, figsize=(8, 4), dpi = 150)\n",
    "ax.set_ylabel('Number of flights')\n",
    "ax.set_xlabel('Month of the year')\n",
    "sns.countplot(ax=ax, x='MES', data=clean_df)\n",
    "sns.despine()"
   ]
  },
  {
   "cell_type": "code",
   "execution_count": 51,
   "metadata": {},
   "outputs": [
    {
     "data": {
      "image/png": "[encoded data removed]",
      "text/plain": [
       "<Figure size 1200x600 with 1 Axes>"
      ]
     },
     "metadata": {
      "needs_background": "light"
     },
     "output_type": "display_data"
    }
   ],
   "source": [
    "fig, ax = plt.subplots(1, figsize=(8, 4), dpi = 150)\n",
    "sns.countplot(ax=ax, x='DIANOM', data=clean_df)\n",
    "sns.despine()"
   ]
  },
  {
   "cell_type": "code",
   "execution_count": 52,
   "metadata": {},
   "outputs": [
    {
     "data": {
      "image/png": "[encoded data removed]",
      "text/plain": [
       "<Figure size 1200x600 with 1 Axes>"
      ]
     },
     "metadata": {
      "needs_background": "light"
     },
     "output_type": "display_data"
    }
   ],
   "source": [
    "fig, ax = plt.subplots(1, figsize=(8, 4), dpi = 150)\n",
    "sns.countplot(ax=ax, x='TIPOVUELO', data=clean_df)\n",
    "sns.despine()"
   ]
  },
  {
   "cell_type": "code",
   "execution_count": null,
   "metadata": {},
   "outputs": [],
   "source": []
  }
 ],
 "metadata": {
  "interpreter": {
   "hash": "ae5365808ea00ddb31984f070ba5ce5b05cf10b48ade5aae4aad5877c3a9f4d9"
  },
  "kernelspec": {
   "display_name": "Python 3.8.12 ('python38')",
   "language": "python",
   "name": "python3"
  },
  "language_info": {
   "codemirror_mode": {
    "name": "ipython",
    "version": 3
   },
   "file_extension": ".py",
   "mimetype": "text/x-python",
   "name": "python",
   "nbconvert_exporter": "python",
   "pygments_lexer": "ipython3",
   "version": "3.8.12"
  },
  "orig_nbformat": 4
 },
 "nbformat": 4,
 "nbformat_minor": 2
}
